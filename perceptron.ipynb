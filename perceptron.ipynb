{
 "cells": [
  {
   "cell_type": "markdown",
   "metadata": {},
   "source": [
    "### Aqui comienza el estudio del perceptron basico. utilizando el libro *Neural Networks from Scratch in Python*\n"
   ]
  },
  {
   "cell_type": "code",
   "execution_count": 1,
   "metadata": {},
   "outputs": [
    {
     "name": "stdout",
     "output_type": "stream",
     "text": [
      "salida de la neurona #1, 2.3\n"
     ]
    }
   ],
   "source": [
    "# Aqui lo que vemos es una neurona con tres entradas, y por ende tiene \n",
    "# tres pesos y un sesgo\n",
    "inputs = [1, 2, 3] #entradas a mi red neuronal\n",
    "weights = [0.2, 0.8, -0.5] #pesos\n",
    "bias = 2 #sesgo\n",
    "\n",
    "output = (inputs[0]*weights[0] + #salida    #salida = entrada*peso+sesgo   (y = xm+b)\n",
    "inputs[1]*weights[1] +           #para este caso como son tres entradas, por eso se hace tres vecss la operacion y al \n",
    "inputs[2]*weights[2] + bias)        #final se suma el sesgo\n",
    "\n",
    "print(f\"salida de la neurona #1, {output}\") #impresion de salida"
   ]
  },
  {
   "cell_type": "markdown",
   "metadata": {},
   "source": [
    "Aqui agregamos otra entrada y otro peso, y utilizamos la amnera mas comun de sumar y multiplicar."
   ]
  },
  {
   "cell_type": "code",
   "execution_count": 7,
   "metadata": {},
   "outputs": [
    {
     "name": "stdout",
     "output_type": "stream",
     "text": [
      "salida de la neurona #2, 4.8\n"
     ]
    }
   ],
   "source": [
    "inputs = [1.0, 2.0, 3.0, 2.5]\n",
    "weights = [0.2, 0.8, -0.5, 1.0]\n",
    "bias = 2.0\n",
    "output = (inputs[0]*weights[0] +        #salida    #salida = entrada*peso+sesgo   (y = xm+b\n",
    "inputs[1]*weights[1] +                  #para este caso como son tres entradas, por eso se hace cuatro vecss la operacion y al \n",
    "inputs[2]*weights[2] +                   #final se suma el sesgo\n",
    "inputs[3]*weights[3] + bias)\n",
    "print(f\"salida de la neurona #2, {output}\") #impresion de salida\n"
   ]
  },
  {
   "cell_type": "markdown",
   "metadata": {},
   "source": [
    "### Tres neuronas, una capa\n",
    "Esta es haciendolo de la forma mas basica, multiplicando y sumando uno por uno"
   ]
  },
  {
   "cell_type": "code",
   "execution_count": 9,
   "metadata": {},
   "outputs": [
    {
     "name": "stdout",
     "output_type": "stream",
     "text": [
      "Salida de las 3 neuronas [4.8, 1.21, 2.385]\n"
     ]
    }
   ],
   "source": [
    "inputs = [1, 2, 3, 2.5]\n",
    "weights1 = [0.2, 0.8, -0.5, 1]\n",
    "weights2 = [0.5, -0.91, 0.26, -0.5]\n",
    "weights3 = [-0.26, -0.27, 0.17, 0.87]\n",
    "bias1 = 2\n",
    "bias2 = 3\n",
    "bias3 = 0.5\n",
    "outputs = [\n",
    "# Neuron 1:\n",
    "inputs[0]*weights1[0] +\n",
    "inputs[1]*weights1[1] +\n",
    "inputs[2]*weights1[2] +\n",
    "inputs[3]*weights1[3] + bias1,\n",
    "# Neuron 2:\n",
    "inputs[0]*weights2[0] +\n",
    "inputs[1]*weights2[1] +\n",
    "inputs[2]*weights2[2] +\n",
    "inputs[3]*weights2[3] + bias2,\n",
    "# Neuron 3:\n",
    "inputs[0]*weights3[0] +\n",
    "inputs[1]*weights3[1] +\n",
    "inputs[2]*weights3[2] +\n",
    "inputs[3]*weights3[3] + bias3]\n",
    "print(f\"Salida de las 3 neuronas {outputs}\")"
   ]
  },
  {
   "cell_type": "markdown",
   "metadata": {},
   "source": [
    "A pesar de lo facil que es hacer esto, cuando se habla de cientos de neuronas es mucho mas dificil programar todo, es por ello que a continucion se presenta el proceso anterior, pero utilizando un ciclo for, en el cual solo tendremos que declarar los vectores de entradas, pesos y sesgos.\n"
   ]
  },
  {
   "cell_type": "code",
   "execution_count": 12,
   "metadata": {},
   "outputs": [
    {
     "name": "stdout",
     "output_type": "stream",
     "text": [
      "De esta concatenacion se encarga \"zip\",pesos [0.2, 0.8, -0.5, 1], bias 2\n",
      "Aqui termina la vuelta de los for\n",
      "De esta concatenacion se encarga \"zip\",pesos [0.5, -0.91, 0.26, -0.5], bias 3\n",
      "Aqui termina la vuelta de los for\n",
      "De esta concatenacion se encarga \"zip\",pesos [-0.26, -0.27, 0.17, 0.87], bias 0.5\n",
      "Aqui termina la vuelta de los for\n",
      "salidas [4.8, 1.21, 2.385]\n"
     ]
    }
   ],
   "source": [
    "inputs = [1, 2, 3, 2.5]\n",
    "weights = [[0.2, 0.8, -0.5, 1],\n",
    "[0.5, -0.91, 0.26, -0.5],\n",
    "[-0.26, -0.27, 0.17, 0.87]]\n",
    "biases = [2, 3, 0.5]\n",
    "# Output of current layer\n",
    "layer_outputs = []\n",
    "# For each neuron\n",
    "for neuron_weights, neuron_bias in zip(weights, biases):\n",
    "    print(f\"De esta concatenacion se encarga \\\"zip\\\",pesos {neuron_weights}, bias {neuron_bias}\")\n",
    "    # Zeroed output of given neuron\n",
    "    neuron_output = 0\n",
    "    # For each input and weight to the neuron\n",
    "    for n_input, weight in zip(inputs, neuron_weights):\n",
    "        # Multiply this input by associated weight\n",
    "        # and add to the neuron’s output variable\n",
    "        neuron_output += n_input*weight\n",
    "    # Add bias\n",
    "    neuron_output += neuron_bias\n",
    "    # Put neuron’s result to the layer’s output list\n",
    "    layer_outputs.append(neuron_output)\n",
    "    print(\"Aqui termina la vuelta de los for\")\n",
    "print(f\"salidas {layer_outputs}\")"
   ]
  },
  {
   "cell_type": "markdown",
   "metadata": {},
   "source": [
    "### Explicacion de lista de listas"
   ]
  },
  {
   "cell_type": "code",
   "execution_count": 15,
   "metadata": {},
   "outputs": [],
   "source": [
    "l = [1,5,6,2]\n",
    "#A list of lists:\n",
    "lol = [[1,5,6,2],\n",
    "[3,2,1,3]]\n",
    "#A list of lists of lists!\n",
    "lolol = [[[1,5,6,2], \n",
    "          [3,2,1,3]],\n",
    "          [[5,2,1,2],\n",
    "           [6,4,8,4]],\n",
    "           [[2,8,5,3],\n",
    "            [1,1,9,4]]]"
   ]
  },
  {
   "cell_type": "markdown",
   "metadata": {},
   "source": [
    "### Producto punto\n",
    "El producto punto se desarrolla de la siguiente manera,al tener dos vectores multiplicamos los mismos indices de cada arreglo."
   ]
  },
  {
   "cell_type": "code",
   "execution_count": 17,
   "metadata": {},
   "outputs": [
    {
     "name": "stdout",
     "output_type": "stream",
     "text": [
      "20\n"
     ]
    }
   ],
   "source": [
    "a = [1,2,3]\n",
    "b = [2,3,4]\n",
    "\n",
    "dot_product = a[0]*b[0] + a[1]*b[1] + a[2]*b[2]\n",
    "print(dot_product)"
   ]
  },
  {
   "cell_type": "markdown",
   "metadata": {},
   "source": [
    "### Una sola neurona con NumPy\n",
    "Como podremos observar np.dot se encraga de hacer lo que normalmente hacemos para el producto punto y se encarga de realizarlo para todos los valores de las listas, y al final se suma el Bias"
   ]
  },
  {
   "cell_type": "code",
   "execution_count": 18,
   "metadata": {},
   "outputs": [
    {
     "name": "stdout",
     "output_type": "stream",
     "text": [
      "4.8\n"
     ]
    }
   ],
   "source": [
    "import numpy as np\n",
    "\n",
    "inputs = [1.0, 2.0, 3.0, 2.5]\n",
    "weights = [0.2, 0.8, -0.5, 1.0]\n",
    "bias = 2.0\n",
    "\n",
    "outputs = np.dot(weights, inputs) + bias\n",
    "print(outputs)"
   ]
  },
  {
   "cell_type": "markdown",
   "metadata": {},
   "source": [
    "### Numpy y tres neuronas\n",
    "#### una capa de neuronas con numpy\n",
    "\n",
    "Aqui numpy se encarga de realizar la multiplicacion de cada  entrada por su peso y al final le suma el bias, es lo que hicimos anteriormente con el for, pero ahora con menos lineas de codigo"
   ]
  },
  {
   "cell_type": "code",
   "execution_count": 2,
   "metadata": {},
   "outputs": [
    {
     "name": "stdout",
     "output_type": "stream",
     "text": [
      "[4.8   1.21  2.385]\n"
     ]
    }
   ],
   "source": [
    "import numpy as np\n",
    "inputs = [1.0, 2.0, 3.0, 2.5]\n",
    "weights = [[0.2, 0.8, -0.5, 1],\n",
    "[0.5, -0.91, 0.26, -0.5],\n",
    "[-0.26, -0.27, 0.17, 0.87]]\n",
    "biases = [2.0, 3.0, 0.5]\n",
    "\n",
    "layer_outputs = np.dot(weights, inputs) + biases\n",
    "print(layer_outputs)\n"
   ]
  },
  {
   "cell_type": "markdown",
   "metadata": {},
   "source": [
    "### Un conjunto de datos\n",
    "An example of a batch of data could look like:\n"
   ]
  },
  {
   "cell_type": "code",
   "execution_count": 21,
   "metadata": {},
   "outputs": [],
   "source": [
    "# Shape = (8, 4)\n",
    "# type = 2D array, matriz\n",
    "inputs = [[1, 2, 3, 2.5],\n",
    "          [2, 5, -1, 2],\n",
    "          [1, 2, 3, 2.5],\n",
    "          [1, 2, 3, 2.5],\n",
    "          [2, 5, -1, 2],\n",
    "          [1, 2, 3, 2.5],\n",
    "          [2, 5, -1, 2],\n",
    "          [1, 2, 3, 2.5]]"
   ]
  },
  {
   "cell_type": "markdown",
   "metadata": {},
   "source": [
    "### Producto de matrices\n",
    "### Una vez visto el producto punto, vamos a ver lo que el producto de matrices\n",
    "\n",
    "El producto matricial es una operación en la que tenemos 2 matrices, y estamos realizando productos escalar de todas las combinaciones de filas de la primera matriz y las columnas de la 2ª matriz, dando como resultado una matriz de esos productos de puntos atómicos\n",
    "\n",
    "En matemáticas, podemos tener algo llamado vector columna y vector fila, que explicaremos mejor en breve. Son vectores, pero representados como matrices con una de las dimensiones que tiene un tamaño de 1\n",
    "\n",
    "para poder multiplicar vectores debemos tenerlos como vectores fila y vectores columna"
   ]
  },
  {
   "cell_type": "markdown",
   "metadata": {},
   "source": [
    "### Transposicion de la matriz producto\n",
    "Con NumPy y con 3 valores, lo definiríamos como:"
   ]
  },
  {
   "cell_type": "code",
   "execution_count": 3,
   "metadata": {},
   "outputs": [
    {
     "data": {
      "text/plain": [
       "array([[1, 2, 3]])"
      ]
     },
     "execution_count": 3,
     "metadata": {},
     "output_type": "execute_result"
    }
   ],
   "source": [
    "\n",
    "np.array([[1, 2, 3]])"
   ]
  },
  {
   "cell_type": "markdown",
   "metadata": {},
   "source": [
    "Tenga en cuenta el uso de corchetes dobles aquí. Para transformar una lista en una matriz que contenga una sola fila (realizar una operación equivalente de convertir un vector en un vector fila), podemos ponerlo en una lista y crear una matriz numpy"
   ]
  },
  {
   "cell_type": "code",
   "execution_count": 4,
   "metadata": {},
   "outputs": [
    {
     "data": {
      "text/plain": [
       "array([[1, 2, 3]])"
      ]
     },
     "execution_count": 4,
     "metadata": {},
     "output_type": "execute_result"
    }
   ],
   "source": [
    "a = [1, 2, 3]\n",
    "np.array([a])"
   ]
  },
  {
   "cell_type": "markdown",
   "metadata": {},
   "source": [
    "Una vez más, tenga en cuenta que encerramos a entre paréntesis antes de convertir en una matriz en este caso. O podemos convertirlo en una matriz 1D y expandir las dimensiones usando una de las habilidades de NumPy:"
   ]
  },
  {
   "cell_type": "code",
   "execution_count": 5,
   "metadata": {},
   "outputs": [
    {
     "data": {
      "text/plain": [
       "array([[1, 2, 3]])"
      ]
     },
     "execution_count": 5,
     "metadata": {},
     "output_type": "execute_result"
    }
   ],
   "source": [
    "a = [1, 2, 3]\n",
    "np.expand_dims(np.array(a), axis=0)\n",
    "#Donde np.expand_dims() añade una nueva dimensión en el índice del eje. Un vector \n",
    "#columna es una matriz donde el tamaño de la segunda dimensión es igual a 1, en otras\n",
    "#palabras, es una matriz de forma (n, 1)\n"
   ]
  },
  {
   "cell_type": "code",
   "execution_count": 6,
   "metadata": {},
   "outputs": [
    {
     "data": {
      "text/plain": [
       "array([[20]])"
      ]
     },
     "execution_count": 6,
     "metadata": {},
     "output_type": "execute_result"
    }
   ],
   "source": [
    "# con codigo numpy:\n",
    "import numpy as np\n",
    "a = [1, 2, 3]\n",
    "b = [2, 3, 4]\n",
    "a = np.array([a])\n",
    "b = np.array([b]).T\n",
    "np.dot(a, b)"
   ]
  },
  {
   "cell_type": "markdown",
   "metadata": {},
   "source": [
    "### Una capa de neuronas y un lote de datos con NumPy"
   ]
  },
  {
   "cell_type": "code",
   "execution_count": 1,
   "metadata": {},
   "outputs": [
    {
     "name": "stdout",
     "output_type": "stream",
     "text": [
      "[[ 4.8    1.21   2.385]\n",
      " [ 8.9   -1.81   0.2  ]\n",
      " [ 1.41   1.051  0.026]]\n"
     ]
    }
   ],
   "source": [
    "import numpy as np\n",
    "inputs = [[1.0, 2.0, 3.0, 2.5],\n",
    " [2.0, 5.0, -1.0, 2.0],\n",
    " [-1.5, 2.7, 3.3, -0.8]]\n",
    "\n",
    "weights = [[0.2, 0.8, -0.5, 1.0],\n",
    " [0.5, -0.91, 0.26, -0.5],\n",
    " [-0.26, -0.27, 0.17, 0.87]]\n",
    "\n",
    "biases = [2.0, 3.0, 0.5]\n",
    "\n",
    "layer_outputs = np.dot(inputs, np.array(weights).T) + biases\n",
    "\n",
    "print(layer_outputs)"
   ]
  },
  {
   "cell_type": "markdown",
   "metadata": {},
   "source": [
    "### Añadiendo capas con numpy\n",
    "\n",
    "a continucion se muestra el codigo para agregar mas de una capa, se debe poner atencion al detalle, pues por la estructura podria ser un poco confuzo"
   ]
  },
  {
   "cell_type": "code",
   "execution_count": 2,
   "metadata": {},
   "outputs": [
    {
     "name": "stdout",
     "output_type": "stream",
     "text": [
      "[[ 0.5031  -1.04185 -2.03875]\n",
      " [ 0.2434  -2.7332  -5.7633 ]\n",
      " [-0.99314  1.41254 -0.35655]]\n"
     ]
    }
   ],
   "source": [
    "import numpy as np\n",
    "inputs = [[1, 2, 3, 2.5], [2., 5., -1., 2], [-1.5, 2.7, 3.3, -0.8]]\n",
    "weights = [[0.2, 0.8, -0.5, 1],\n",
    "[0.5, -0.91, 0.26, -0.5],\n",
    "[-0.26, -0.27, 0.17, 0.87]]\n",
    "biases = [2, 3, 0.5] #Aqui termina la etapa de entrada de los datos y su paso por la primera neurona\n",
    "\n",
    "weights2 = [[0.1, -0.14, 0.5],\n",
    "[-0.5, 0.12, -0.33],\n",
    "[-0.44, 0.73, -0.13]]\n",
    "biases2 = [-1, 2, -0.5]#Aqui termina la etapa de entrada de los datos y su paso por la segunda neurona\n",
    "\n",
    "\n",
    "layer1_outputs = np.dot(inputs, np.array(weights).T) + biases\n",
    "layer2_outputs = np.dot(layer1_outputs, np.array(weights2).T) + biases2\n",
    "print(layer2_outputs)"
   ]
  },
  {
   "cell_type": "markdown",
   "metadata": {},
   "source": [
    "### Datos de entrenamiento\n",
    "\n",
    "a menudo estamos acostumbrados a usar solo datos con un comportamiento lineal, esto es facil incluso para los aalgoritmops comunes de machine learnig, pero lo dificultoso es cuando les introducimos datos que no se comportan de forma lineal.\n",
    "\n",
    "hemos creado un paquete de Python que puedes instalar con pip, llamado nnfs, el cual puedes instalar de la siguiente manera: pip install nnfs\n",
    "\n",
    "El paquete nnfs contiene funciones que podemos usar para crear datos. Por ejemplo:"
   ]
  },
  {
   "cell_type": "code",
   "execution_count": 4,
   "metadata": {},
   "outputs": [],
   "source": [
    "from nnfs.datasets import spiral_data"
   ]
  },
  {
   "cell_type": "markdown",
   "metadata": {},
   "source": [
    "Por lo general, no generará datos de entrenamiento a partir de una función para las redes neuronales. Tendrá un conjunto de datos real. Generar un conjunto de datos de esta manera es puramente por conveniencia en esta etapa. También usaremos este paquete para garantizar la repetibilidad para todos, usando nnfs.init(), después de importar NumPy:"
   ]
  },
  {
   "cell_type": "code",
   "execution_count": 5,
   "metadata": {},
   "outputs": [],
   "source": [
    "import numpy as np\n",
    "import nnfs\n",
    "nnfs.init()\n"
   ]
  },
  {
   "cell_type": "markdown",
   "metadata": {},
   "source": [
    "# ojo \n",
    "El nnfs.init() hace tres cosas: establece la semilla aleatoria en 0 (por defecto), crea un valor predeterminado de dtype float32 y anula el producto de puntos original de NumPy. Todo esto está destinado a garantizar resultados repetibles para el seguimiento."
   ]
  },
  {
   "cell_type": "markdown",
   "metadata": {},
   "source": [
    "La función spiral_data nos permite crear un conjunto de datos con tantas clases como queramos. La función tiene parámetros para elegir el número de clases y el número de puntos/observaciones por clase en el dataset no lineal resultante. Por ejemplo:"
   ]
  },
  {
   "cell_type": "code",
   "execution_count": 12,
   "metadata": {},
   "outputs": [
    {
     "data": {
      "image/png": "[encoded data removed]",
      "text/plain": [
       "<Figure size 640x480 with 1 Axes>"
      ]
     },
     "metadata": {},
     "output_type": "display_data"
    }
   ],
   "source": [
    "import matplotlib.pyplot as plt\n",
    "X, y = spiral_data(samples=100, classes=3)\n",
    "plt.scatter(X[:,0], X[:,1])\n",
    "plt.show()"
   ]
  },
  {
   "cell_type": "markdown",
   "metadata": {},
   "source": [
    "Si realiza un seguimiento desde el centro, puede determinar las 3 clases por separado, pero este es un problema muy difícil de resolver para un clasificador de aprendizaje automático. Agregar color al gráfico hace que sea más claro identificar las clases"
   ]
  },
  {
   "cell_type": "code",
   "execution_count": 13,
   "metadata": {},
   "outputs": [
    {
     "data": {
      "image/png": "[encoded data removed]",
      "text/plain": [
       "<Figure size 640x480 with 1 Axes>"
      ]
     },
     "metadata": {},
     "output_type": "display_data"
    }
   ],
   "source": [
    "plt.scatter(X[:, 0], X[:, 1], c=y, cmap='brg')\n",
    "plt.show()"
   ]
  },
  {
   "cell_type": "markdown",
   "metadata": {},
   "source": [
    "Tenga en cuenta que la red neuronal no será consciente de las diferencias de color, ya que los datos no tienen codificaciones de clase. Esto solo se hace como una instrucción para el lector. En los datos anteriores, cada punto es la entidad y sus coordenadas son las muestras que forman el dataset. La \"clasificación\" de ese punto tiene que ver con la espiral de la que forma parte, representada por el color azul, verde o rojo en la imagen anterior. A estos colores se les asignaría un número de clase para que el modelo se ajuste, como 0, 1 y 2\n",
    "\n",
    "\n",
    "# ojo\n",
    "debes finalizar el programa y posiblemente reiniciarlo pues nnfs sigue ejecutando."
   ]
  },
  {
   "cell_type": "markdown",
   "metadata": {},
   "source": [
    "### Clase de capa densa\n",
    "\n",
    "Ahora que ya no necesitamos escribir a mano nuestros datos, deberíamos crear algo similar para nuestros diversos tipos de capas de redes neuronales. Hasta ahora, solo hemos usado lo que se llama una capa densa o totalmente conectada. Estas capas se conocen comúnmente como capas \"densas\" en documentos, literatura y código, pero ocasionalmente las verá llamadas completamente conectadas o \"fc\" para abreviar en código. Nuestra clase de capa densa comenzará con dos métodos."
   ]
  },
  {
   "cell_type": "code",
   "execution_count": 27,
   "metadata": {},
   "outputs": [],
   "source": [
    "class Layer_Dense:\n",
    "    def __init__(self, n_inputs, n_neurons):\n",
    "        # Inicializar pesos y sesgos\n",
    "        pass # Uso de la instrucción PASS como marcador de posición\n",
    "\n",
    "    # Forward pass (Pase hacia adelante)\n",
    "    def forward(self, inputs):\n",
    "        # Calcule los valores de salida a partir de entradas, ponderaciones y sesgos\n",
    "        pass # Uso de la instrucción PASS como marcador de posición"
   ]
  },
  {
   "cell_type": "markdown",
   "metadata": {},
   "source": [
    "Como se indicó anteriormente, los pesos a menudo se inicializan aleatoriamente para un modelo, pero no siempre. Si desea cargar un modelo previamente entrenado, inicializará los parámetros en el modelo previamente entrenado con el que haya terminado. También es posible que, incluso para un nuevo modelo, tenga otras reglas de inicialización además de aleatorias. Por ahora, nos quedaremos con la inicialización aleatoria. A continuación, tenemos el método forward. Cuando pasamos datos a través de un modelo de principio a fin, esto se denomina paso hacia adelante. Sin embargo, como todo lo demás, esta no es la única forma de hacer las cosas. Puede hacer que los datos vuelvan a girar y hacer otras cosas interesantes. Lo mantendremos habitual y realizaremos un pase hacia adelante regular"
   ]
  },
  {
   "cell_type": "markdown",
   "metadata": {},
   "source": [
    "Para continuar con el código de la clase Layer_Dense, agreguemos la inicialización aleatoria de pesos y sesgos:"
   ]
  },
  {
   "cell_type": "code",
   "execution_count": 4,
   "metadata": {},
   "outputs": [],
   "source": [
    "# Inicialización de capas\n",
    "def __init__(self, n_inputs, n_neurons):\n",
    "    self.weights = 0.01 * np.random.randn(n_inputs, n_neurons)\n",
    "    self.biases = np.zeros((1, n_neurons))\n"
   ]
  },
  {
   "cell_type": "markdown",
   "metadata": {},
   "source": [
    "Aquí, estamos estableciendo los pesos para que sean aleatorios y los sesgos para que sean 0. Tenga en cuenta que estamos inicializando pesos para que sean (entradas, neuronas), en lugar de (neuronas, entradas). Lo hacemos por adelantado en lugar de transponer cada vez que realizamos un pase hacia adelante, como se explicó en el capítulo anterior. ¿Por qué cero sesgos? En escenarios específicos, como con muchas muestras que contienen valores de 0, un sesgo puede garantizar que una neurona se active inicialmente. A veces puede ser apropiado inicializar los sesgos en algún número distinto de cero, pero la inicialización más común para los sesgos es 0. Sin embargo, en estos escenarios, es posible que tenga éxito en hacer las cosas de otra manera. Esto variará según su caso de uso y es solo una de las muchas cosas que puede modificar cuando intente mejorar los resultados. Una situación en la que es posible que desee probar otra cosa es con lo que se llama neuronas muertas. Todavía no hemos cubierto las funciones de activación en la práctica, pero imagina nuestra *step function* de nuevo."
   ]
  },
  {
   "cell_type": "markdown",
   "metadata": {},
   "source": [
    "Es posible para pesos · entradas + sesgos para no cumplir con el umbral de la *step function*, lo que significa que la neurona emitirá un 0. Por sí solo, esto no es un gran problema, pero se convierte en un problema si esto le sucede a esta neurona para cada una de las muestras de entrada (quedará claro por qué una vez que cubramos la retropropagación). Entonces, la salida 0 de esta neurona es la entrada a otra neurona. Cualquier peso multiplicado por cero será cero. Con un número cada vez mayor de neuronas que emiten 0, más entradas a las siguientes neuronas recibirán estos 0, lo que hará que la red sea esencialmente no entrenable, o \"muerta\"."
   ]
  },
  {
   "cell_type": "markdown",
   "metadata": {},
   "source": [
    "A continuación, exploremos np.random.randn y np.zeros con más detalle. Estos métodos son formas convenientes de inicializar matrices. np.random.randn produce una distribución gaussiana con una media de 0 y una varianza de 1, lo que significa que generará números aleatorios, positivos y negativos, centrados en 0 y con el valor medio cercano a 0. En general, las redes neuronales funcionan mejor con valores entre -1 y +1, de los que hablaremos en un próximo capítulo. Por lo tanto, este np.random.randn genera valores en torno a esos números. Vamos a multiplicar esta distribución gaussiana de los pesos por 0,01 para generar números que sean un par de magnitudes más pequeños. De lo contrario, el modelo tardará más tiempo en ajustar los datos durante el proceso de entrenamiento, ya que los valores iniciales serán desproporcionadamente grandes en comparación con las actualizaciones que se realizan durante el entrenamiento. La idea aquí es iniciar un modelo con valores distintos de cero lo suficientemente pequeños como para que no afecten al entrenamiento. De esta manera, tenemos un montón de valores con los que empezar a trabajar, pero esperamos que ninguno sea demasiado grande o como ceros. Si lo desea, puede experimentar con valores distintos de 0,01. Por último, la función np.random.randn toma los tamaños de dimensión como parámetros y crea la matriz de salida con esta forma. Los pesos aquí serán el número de entradas para la primera dimensión y el número de neuronas para la segunda dimensión. Esto es similar a nuestra matriz anterior de pesos, solo que generados aleatoriamente. Siempre que haya una función o un bloque de código del que no estés seguro, siempre puedes imprimirlo. Por ejemplo:"
   ]
  },
  {
   "cell_type": "code",
   "execution_count": 5,
   "metadata": {},
   "outputs": [
    {
     "name": "stdout",
     "output_type": "stream",
     "text": [
      "[[ 1.7640524   0.4001572   0.978738    2.2408931   1.867558  ]\n",
      " [-0.9772779   0.95008844 -0.1513572  -0.10321885  0.41059852]]\n"
     ]
    }
   ],
   "source": [
    "import numpy as np\n",
    "import nnfs\n",
    "nnfs.init()\n",
    "print(np.random.randn(2,5))"
   ]
  },
  {
   "cell_type": "markdown",
   "metadata": {},
   "source": [
    "La llamada a la función de ejemplo ha devuelto una matriz de 2x5 (que también podemos decir que es \"con una forma de (2,5)\") con datos muestreados aleatoriamente de una distribución gaussiana con una media de 0.\n",
    "\n",
    "A continuación, la función np.zeros toma una forma de matriz deseada como argumento y devuelve una matriz de esa forma rellena de ceros."
   ]
  },
  {
   "cell_type": "code",
   "execution_count": 6,
   "metadata": {},
   "outputs": [
    {
     "name": "stdout",
     "output_type": "stream",
     "text": [
      "[[0. 0. 0. 0. 0.]\n",
      " [0. 0. 0. 0. 0.]]\n"
     ]
    }
   ],
   "source": [
    "print(np.zeros((2,5)))"
   ]
  },
  {
   "cell_type": "markdown",
   "metadata": {},
   "source": [
    "Inicializaremos los sesgos con la forma de (1, n_neurons), como un vector fila, lo que nos permitirá agregarlo fácilmente al resultado del producto escalar más adelante, sin operaciones adicionales como la transposición."
   ]
  },
  {
   "cell_type": "markdown",
   "metadata": {},
   "source": [
    "Para ver un ejemplo de cómo nuestro método inicializa pesos y sesgos:"
   ]
  },
  {
   "cell_type": "code",
   "execution_count": 20,
   "metadata": {},
   "outputs": [
    {
     "name": "stdout",
     "output_type": "stream",
     "text": [
      "[[ 0.01764052  0.00400157  0.00978738  0.02240893]\n",
      " [ 0.01867558 -0.00977278  0.00950088 -0.00151357]]\n",
      "[[0. 0. 0. 0.]]\n"
     ]
    }
   ],
   "source": [
    "import numpy as np\n",
    "import nnfs\n",
    "from nnfs.datasets import spiral_data\n",
    "nnfs.init()\n",
    "n_inputs = 2\n",
    "n_neurons = 4\n",
    "weights = 0.01 * np.random.randn(n_inputs, n_neurons)\n",
    "biases = np.zeros((1, n_neurons))\n",
    "print(weights)\n",
    "print(biases)"
   ]
  },
  {
   "cell_type": "markdown",
   "metadata": {},
   "source": [
    "Pasando a nuestro método forward, tenemos que actualizarlo con el cálculo de producto punto+sesgos:"
   ]
  },
  {
   "cell_type": "code",
   "execution_count": 21,
   "metadata": {},
   "outputs": [],
   "source": [
    "def forward(self, inputs):\n",
    "    self.output = np.dot(inputs, self.weights) + self.biases\n"
   ]
  },
  {
   "cell_type": "markdown",
   "metadata": {},
   "source": [
    "Nada nuevo aquí, solo convertir el código anterior en un método. Nuestra clase completa de Layer_Dense hasta ahora:"
   ]
  },
  {
   "cell_type": "code",
   "execution_count": 30,
   "metadata": {},
   "outputs": [],
   "source": [
    "class Layer_Dense:\n",
    "    def __init__(self, n_inputs, n_neurons):\n",
    "        self.weights = 0.01 * np.random.randn(n_inputs, n_neurons)\n",
    "        self.biases = np.zeros((1, n_neurons))\n",
    "        \n",
    "    def forward(self, inputs):\n",
    "        self.output = np.dot(inputs, self.weights) + self.biases\n"
   ]
  },
  {
   "cell_type": "markdown",
   "metadata": {},
   "source": [
    "Estamos listos para hacer uso de esta nueva clase en lugar de cálculos codificados, así que generemos algunos datos usando el método de creación de conjuntos de datos discutido y usemos nuestra nueva capa para realizar un forward:"
   ]
  },
  {
   "cell_type": "code",
   "execution_count": 31,
   "metadata": {},
   "outputs": [
    {
     "name": "stdout",
     "output_type": "stream",
     "text": [
      "[[ 0.00000000e+00  0.00000000e+00  0.00000000e+00]\n",
      " [-2.61496298e-05 -5.70940247e-05 -1.16960771e-04]\n",
      " [-7.69893813e-05 -4.75328154e-04 -2.12466970e-04]\n",
      " [-1.19454686e-04 -6.26299181e-04 -3.77396704e-04]\n",
      " [-1.59333722e-04 -8.86327529e-04 -4.81519091e-04]]\n"
     ]
    }
   ],
   "source": [
    "# Create dataset\n",
    "from nnfs.datasets import spiral_data\n",
    "\n",
    "X, y = spiral_data(samples=100, classes=3)\n",
    "# Create Dense layer with 2 input features and 3 output values\n",
    "dense1 = Layer_Dense(2, 3)\n",
    "## Realizar un forward de nuestros datos de entrenamiento a través de esta capa \n",
    "dense1.forward(X)\n",
    "# Let's see output of the first few samples:\n",
    "print(dense1.output[:5])"
   ]
  },
  {
   "cell_type": "markdown",
   "metadata": {},
   "source": [
    "# Código completo hasta este punto:"
   ]
  },
  {
   "cell_type": "code",
   "execution_count": 32,
   "metadata": {},
   "outputs": [
    {
     "name": "stdout",
     "output_type": "stream",
     "text": [
      "[[ 0.0000000e+00  0.0000000e+00  0.0000000e+00]\n",
      " [-1.0475188e-04  1.1395361e-04 -4.7983500e-05]\n",
      " [-2.7414842e-04  3.1729150e-04 -8.6921798e-05]\n",
      " [-4.2188365e-04  5.2666257e-04 -5.5912682e-05]\n",
      " [-5.7707680e-04  7.1401405e-04 -8.9430439e-05]]\n"
     ]
    }
   ],
   "source": [
    "import numpy as np\n",
    "import nnfs\n",
    "from nnfs.datasets import spiral_data\n",
    "nnfs.init()\n",
    "# Capa densa\n",
    "class Layer_Dense:\n",
    "    # inicializacion de capas\n",
    "    def __init__(self, n_inputs, n_neurons):\n",
    "        # inicializacion de pesos y biases\n",
    "        self.weights = 0.01 * np.random.randn(n_inputs, n_neurons)\n",
    "        self.biases = np.zeros((1, n_neurons))\n",
    "    # Forward\n",
    "    def forward(self, inputs):\n",
    "        #Calcular los valores de salida a partir de entradas, ponderaciones y sesgos\n",
    "        self.output = np.dot(inputs, self.weights) + self.biases\n",
    "# Crear conjunto de datos\n",
    "X, y = spiral_data(samples=100, classes=3)\n",
    "# Crear capa densa con 2 entidades de entrada y 3 valores de salida\n",
    "dense1 = Layer_Dense(2, 3)\n",
    "# Realizar un forward de nuestros datos de entrenamiento a través de esta capa\n",
    "dense1.forward(X)\n",
    "# Veamos el resultado de los primeros ejemplos:\n",
    "print(dense1.output[:5])\n"
   ]
  },
  {
   "cell_type": "markdown",
   "metadata": {},
   "source": [
    "En el resultado, puede ver que tenemos 5 filas de datos que tienen 3 valores cada una. Cada uno de esos 3 valores es el valor de las 3 neuronas en la capa densa1 después de pasar cada una de las muestras. ¡Bien! Tenemos una red de neuronas, por lo que nuestro modelo de red neuronal casi merece su nombre, pero todavía nos faltan las funciones de activación, ¡así que hagámoslas a continuación!"
   ]
  },
  {
   "cell_type": "markdown",
   "metadata": {},
   "source": [
    "### Capítulo 4, Funciones de activación"
   ]
  },
  {
   "cell_type": "code",
   "execution_count": null,
   "metadata": {},
   "outputs": [],
   "source": []
  }
 ],
 "metadata": {
  "kernelspec": {
   "display_name": "Python 3",
   "language": "python",
   "name": "python3"
  },
  "language_info": {
   "codemirror_mode": {
    "name": "ipython",
    "version": 3
   },
   "file_extension": ".py",
   "mimetype": "text/x-python",
   "name": "python",
   "nbconvert_exporter": "python",
   "pygments_lexer": "ipython3",
   "version": "3.12.1"
  }
 },
 "nbformat": 4,
 "nbformat_minor": 2
}
